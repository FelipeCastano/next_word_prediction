{
 "cells": [
  {
   "cell_type": "code",
   "execution_count": 1,
   "id": "49d11752-fff0-4587-a4e0-d56db172a561",
   "metadata": {},
   "outputs": [],
   "source": [
    "from utils import load_data, tokenize_sentences, count_words, get_words_with_nplus_frequency, replace_oov_words_by_unk"
   ]
  },
  {
   "cell_type": "code",
   "execution_count": 1,
   "id": "fccb7b8f-cd6d-41fc-b990-dd3851a21819",
   "metadata": {},
   "outputs": [],
   "source": [
    "from ngrams import Ngrams"
   ]
  },
  {
   "cell_type": "code",
   "execution_count": 2,
   "id": "c28782c1-84c7-4900-a621-907b2d32742f",
   "metadata": {},
   "outputs": [],
   "source": [
    "ngram = Ngrams()\n",
    "sentences = [['i', 'like', 'a', 'cat'],\n",
    "             ['this', 'dog', 'is', 'like', 'a', 'cat']]"
   ]
  },
  {
   "cell_type": "code",
   "execution_count": 3,
   "id": "a039e70b-caf6-4ae5-a424-a37f0af1a75d",
   "metadata": {},
   "outputs": [
    {
     "data": {
      "text/plain": [
       "0.2727272727272727"
      ]
     },
     "execution_count": 3,
     "metadata": {},
     "output_type": "execute_result"
    }
   ],
   "source": [
    "ngram.create_n_grams(sentences)\n",
    "ngram.estimate_probability(\"cat\", [\"a\"], k=1)"
   ]
  },
  {
   "cell_type": "code",
   "execution_count": 4,
   "id": "19dcc656-a48b-45fb-9d9b-0144b9fd5a8d",
   "metadata": {},
   "outputs": [
    {
     "data": {
      "text/plain": [
       "{'a': 0.09090909090909091,\n",
       " 'i': 0.09090909090909091,\n",
       " 'dog': 0.09090909090909091,\n",
       " 'this': 0.09090909090909091,\n",
       " 'is': 0.09090909090909091,\n",
       " 'cat': 0.2727272727272727,\n",
       " 'like': 0.09090909090909091,\n",
       " '<e>': 0.09090909090909091,\n",
       " '<unk>': 0.09090909090909091}"
      ]
     },
     "execution_count": 4,
     "metadata": {},
     "output_type": "execute_result"
    }
   ],
   "source": [
    "ngram.estimate_probabilities([\"a\"], k=1)"
   ]
  },
  {
   "cell_type": "code",
   "execution_count": 4,
   "id": "d16634df-8b72-4f7d-969c-3144a1842d9f",
   "metadata": {},
   "outputs": [],
   "source": [
    "ngram.make_count_matrix()\n",
    "ngram.make_probability_matrix()"
   ]
  },
  {
   "cell_type": "code",
   "execution_count": 5,
   "id": "83fbd642-2a5f-43d2-98da-513960af8ea8",
   "metadata": {},
   "outputs": [
    {
     "data": {
      "text/html": [
       "<div>\n",
       "<style scoped>\n",
       "    .dataframe tbody tr th:only-of-type {\n",
       "        vertical-align: middle;\n",
       "    }\n",
       "\n",
       "    .dataframe tbody tr th {\n",
       "        vertical-align: top;\n",
       "    }\n",
       "\n",
       "    .dataframe thead th {\n",
       "        text-align: right;\n",
       "    }\n",
       "</style>\n",
       "<table border=\"1\" class=\"dataframe\">\n",
       "  <thead>\n",
       "    <tr style=\"text-align: right;\">\n",
       "      <th></th>\n",
       "      <th>a</th>\n",
       "      <th>this</th>\n",
       "      <th>i</th>\n",
       "      <th>dog</th>\n",
       "      <th>cat</th>\n",
       "      <th>is</th>\n",
       "      <th>like</th>\n",
       "      <th>&lt;e&gt;</th>\n",
       "      <th>&lt;unk&gt;</th>\n",
       "    </tr>\n",
       "  </thead>\n",
       "  <tbody>\n",
       "    <tr>\n",
       "      <th>(this,)</th>\n",
       "      <td>0.100000</td>\n",
       "      <td>0.100000</td>\n",
       "      <td>0.100000</td>\n",
       "      <td>0.200000</td>\n",
       "      <td>0.100000</td>\n",
       "      <td>0.100000</td>\n",
       "      <td>0.100000</td>\n",
       "      <td>0.100000</td>\n",
       "      <td>0.100000</td>\n",
       "    </tr>\n",
       "    <tr>\n",
       "      <th>(a,)</th>\n",
       "      <td>0.090909</td>\n",
       "      <td>0.090909</td>\n",
       "      <td>0.090909</td>\n",
       "      <td>0.090909</td>\n",
       "      <td>0.272727</td>\n",
       "      <td>0.090909</td>\n",
       "      <td>0.090909</td>\n",
       "      <td>0.090909</td>\n",
       "      <td>0.090909</td>\n",
       "    </tr>\n",
       "    <tr>\n",
       "      <th>(&lt;s&gt;,)</th>\n",
       "      <td>0.090909</td>\n",
       "      <td>0.181818</td>\n",
       "      <td>0.181818</td>\n",
       "      <td>0.090909</td>\n",
       "      <td>0.090909</td>\n",
       "      <td>0.090909</td>\n",
       "      <td>0.090909</td>\n",
       "      <td>0.090909</td>\n",
       "      <td>0.090909</td>\n",
       "    </tr>\n",
       "    <tr>\n",
       "      <th>(cat,)</th>\n",
       "      <td>0.090909</td>\n",
       "      <td>0.090909</td>\n",
       "      <td>0.090909</td>\n",
       "      <td>0.090909</td>\n",
       "      <td>0.090909</td>\n",
       "      <td>0.090909</td>\n",
       "      <td>0.090909</td>\n",
       "      <td>0.272727</td>\n",
       "      <td>0.090909</td>\n",
       "    </tr>\n",
       "    <tr>\n",
       "      <th>(is,)</th>\n",
       "      <td>0.100000</td>\n",
       "      <td>0.100000</td>\n",
       "      <td>0.100000</td>\n",
       "      <td>0.100000</td>\n",
       "      <td>0.100000</td>\n",
       "      <td>0.100000</td>\n",
       "      <td>0.200000</td>\n",
       "      <td>0.100000</td>\n",
       "      <td>0.100000</td>\n",
       "    </tr>\n",
       "    <tr>\n",
       "      <th>(like,)</th>\n",
       "      <td>0.272727</td>\n",
       "      <td>0.090909</td>\n",
       "      <td>0.090909</td>\n",
       "      <td>0.090909</td>\n",
       "      <td>0.090909</td>\n",
       "      <td>0.090909</td>\n",
       "      <td>0.090909</td>\n",
       "      <td>0.090909</td>\n",
       "      <td>0.090909</td>\n",
       "    </tr>\n",
       "    <tr>\n",
       "      <th>(i,)</th>\n",
       "      <td>0.100000</td>\n",
       "      <td>0.100000</td>\n",
       "      <td>0.100000</td>\n",
       "      <td>0.100000</td>\n",
       "      <td>0.100000</td>\n",
       "      <td>0.100000</td>\n",
       "      <td>0.200000</td>\n",
       "      <td>0.100000</td>\n",
       "      <td>0.100000</td>\n",
       "    </tr>\n",
       "    <tr>\n",
       "      <th>(dog,)</th>\n",
       "      <td>0.100000</td>\n",
       "      <td>0.100000</td>\n",
       "      <td>0.100000</td>\n",
       "      <td>0.100000</td>\n",
       "      <td>0.100000</td>\n",
       "      <td>0.200000</td>\n",
       "      <td>0.100000</td>\n",
       "      <td>0.100000</td>\n",
       "      <td>0.100000</td>\n",
       "    </tr>\n",
       "  </tbody>\n",
       "</table>\n",
       "</div>"
      ],
      "text/plain": [
       "                a      this         i       dog       cat        is      like  \\\n",
       "(this,)  0.100000  0.100000  0.100000  0.200000  0.100000  0.100000  0.100000   \n",
       "(a,)     0.090909  0.090909  0.090909  0.090909  0.272727  0.090909  0.090909   \n",
       "(<s>,)   0.090909  0.181818  0.181818  0.090909  0.090909  0.090909  0.090909   \n",
       "(cat,)   0.090909  0.090909  0.090909  0.090909  0.090909  0.090909  0.090909   \n",
       "(is,)    0.100000  0.100000  0.100000  0.100000  0.100000  0.100000  0.200000   \n",
       "(like,)  0.272727  0.090909  0.090909  0.090909  0.090909  0.090909  0.090909   \n",
       "(i,)     0.100000  0.100000  0.100000  0.100000  0.100000  0.100000  0.200000   \n",
       "(dog,)   0.100000  0.100000  0.100000  0.100000  0.100000  0.200000  0.100000   \n",
       "\n",
       "              <e>     <unk>  \n",
       "(this,)  0.100000  0.100000  \n",
       "(a,)     0.090909  0.090909  \n",
       "(<s>,)   0.090909  0.090909  \n",
       "(cat,)   0.272727  0.090909  \n",
       "(is,)    0.100000  0.100000  \n",
       "(like,)  0.090909  0.090909  \n",
       "(i,)     0.100000  0.100000  \n",
       "(dog,)   0.100000  0.100000  "
      ]
     },
     "execution_count": 5,
     "metadata": {},
     "output_type": "execute_result"
    }
   ],
   "source": [
    "ngram.prob_matrix"
   ]
  },
  {
   "cell_type": "markdown",
   "id": "03d1bf65-4cca-4eb0-8452-98faee0d6af6",
   "metadata": {},
   "source": [
    "### Enligsh"
   ]
  },
  {
   "cell_type": "code",
   "execution_count": 7,
   "id": "e704b632-7a20-47ca-b76d-e23bfc0293af",
   "metadata": {},
   "outputs": [],
   "source": [
    "train_data = load_data('../../data/english_tweets_train.csv')[:500]\n",
    "test_data = load_data('../../data/english_tweets_test.csv')[:100]"
   ]
  },
  {
   "cell_type": "code",
   "execution_count": 8,
   "id": "40a64d82-cace-48db-bf35-17b879fb5b88",
   "metadata": {},
   "outputs": [
    {
     "name": "stderr",
     "output_type": "stream",
     "text": [
      "/home/felipe/personal_projects/.notebook_venv/lib/python3.12/site-packages/spacy/pipeline/lemmatizer.py:211: UserWarning: [W108] The rule-based lemmatizer did not find POS annotation for one or more tokens. Check that your pipeline includes components that assign token.pos, typically 'tagger'+'attribute_ruler' or 'morphologizer'.\n",
      "  warnings.warn(Warnings.W108)\n"
     ]
    }
   ],
   "source": [
    "train_tokenized = tokenize_sentences(train_data, True)\n",
    "test_tokenized = tokenize_sentences(test_data, True)"
   ]
  },
  {
   "cell_type": "code",
   "execution_count": 9,
   "id": "c0ea5fba-6d7c-4a5f-8170-e9d7c4d75044",
   "metadata": {},
   "outputs": [],
   "source": [
    "vocabulary = get_words_with_nplus_frequency(train_tokenized, count_threshold=1)\n",
    "train_data_replaced = replace_oov_words_by_unk(train_tokenized, vocabulary, unknown_token='<unk>')\n",
    "test_data_replaced = replace_oov_words_by_unk(test_tokenized, vocabulary, unknown_token='<unk>')"
   ]
  },
  {
   "cell_type": "markdown",
   "id": "317be48b-ef8b-4c61-8c87-aea0fbe95685",
   "metadata": {},
   "source": [
    "### Spanish"
   ]
  },
  {
   "cell_type": "code",
   "execution_count": 11,
   "id": "1a3a1c70-1b60-4ed9-8660-adb268ad16e8",
   "metadata": {},
   "outputs": [],
   "source": [
    "train_data = load_data('../../data/spanish_tweets_train.csv')[:500]\n",
    "test_data = load_data('../../data/spanish_tweets_test.csv')[:100]"
   ]
  },
  {
   "cell_type": "code",
   "execution_count": 12,
   "id": "a6b6af3e-7a32-4b26-ab2c-7606506309ac",
   "metadata": {},
   "outputs": [],
   "source": [
    "train_tokenized = tokenize_sentences(train_data, False)\n",
    "test_tokenized = tokenize_sentences(test_data, False)"
   ]
  },
  {
   "cell_type": "code",
   "execution_count": 14,
   "id": "d1f92a05-6ecf-479e-a150-52197a928e6d",
   "metadata": {},
   "outputs": [],
   "source": [
    "vocabulary = get_words_with_nplus_frequency(train_tokenized, count_threshold=1)\n",
    "train_data_replaced = replace_oov_words_by_unk(train_tokenized, vocabulary, unknown_token='<unk>')\n",
    "test_data_replaced = replace_oov_words_by_unk(test_tokenized, vocabulary, unknown_token='<unk>')"
   ]
  }
 ],
 "metadata": {
  "kernelspec": {
   "display_name": "Python 3 (ipykernel)",
   "language": "python",
   "name": "python3"
  },
  "language_info": {
   "codemirror_mode": {
    "name": "ipython",
    "version": 3
   },
   "file_extension": ".py",
   "mimetype": "text/x-python",
   "name": "python",
   "nbconvert_exporter": "python",
   "pygments_lexer": "ipython3",
   "version": "3.12.3"
  }
 },
 "nbformat": 4,
 "nbformat_minor": 5
}
